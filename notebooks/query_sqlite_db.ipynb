{
 "cells": [
  {
   "cell_type": "markdown",
   "metadata": {},
   "source": [
    "Code to download sqlite database and query it"
   ]
  },
  {
   "cell_type": "code",
   "execution_count": 8,
   "metadata": {},
   "outputs": [
    {
     "data": {
      "text/plain": [
       "True"
      ]
     },
     "execution_count": 8,
     "metadata": {},
     "output_type": "execute_result"
    }
   ],
   "source": [
    "import boto3\n",
    "import sqlite3\n",
    "import pandas as pd\n",
    "import os\n",
    "from dotenv import load_dotenv\n",
    "\n",
    "load_dotenv(dotenv_path='../src/.env')"
   ]
  },
  {
   "cell_type": "code",
   "execution_count": 9,
   "metadata": {},
   "outputs": [],
   "source": [
    "s3 = boto3.client('s3')\n",
    "bucket_name = os.getenv('S3_BUCKET_NAME')\n",
    "db_key = os.getenv('DB_KEY')\n",
    "local_db_path = 'monzo-db-query.db'"
   ]
  },
  {
   "cell_type": "code",
   "execution_count": 10,
   "metadata": {},
   "outputs": [],
   "source": [
    "s3.download_file(bucket_name, db_key, local_db_path)"
   ]
  },
  {
   "cell_type": "code",
   "execution_count": 11,
   "metadata": {},
   "outputs": [],
   "source": [
    "conn = sqlite3.connect(local_db_path)\n",
    "\n",
    "query_t = \"\"\"\n",
    "    SELECT * FROM transactions\n",
    "    ORDER BY date_retrieved DESC\n",
    "\"\"\"\n",
    "\n",
    "query_b = \"\"\"\n",
    "    SELECT * FROM balance\n",
    "    ORDER BY date_retrieved DESC\n",
    "\"\"\"\n",
    "\n",
    "query_p = \"\"\"\n",
    "    SELECT * FROM pots\n",
    "    ORDER BY date_retrieved DESC\n",
    "\"\"\"\n",
    "\n",
    "df_t = pd.read_sql_query(query_t, conn)\n",
    "df_b = pd.read_sql_query(query_b, conn)\n",
    "df_p = pd.read_sql_query(query_p, conn)\n",
    "\n",
    "conn.close()\n",
    "os.remove(local_db_path)"
   ]
  },
  {
   "cell_type": "code",
   "execution_count": 12,
   "metadata": {},
   "outputs": [],
   "source": [
    "# df_t.head()"
   ]
  },
  {
   "cell_type": "code",
   "execution_count": 13,
   "metadata": {},
   "outputs": [],
   "source": [
    "# df_b.head()"
   ]
  },
  {
   "cell_type": "code",
   "execution_count": 14,
   "metadata": {},
   "outputs": [],
   "source": [
    "# df_p.head()"
   ]
  }
 ],
 "metadata": {
  "kernelspec": {
   "display_name": ".monzo_env",
   "language": "python",
   "name": "python3"
  },
  "language_info": {
   "codemirror_mode": {
    "name": "ipython",
    "version": 3
   },
   "file_extension": ".py",
   "mimetype": "text/x-python",
   "name": "python",
   "nbconvert_exporter": "python",
   "pygments_lexer": "ipython3",
   "version": "3.12.5"
  }
 },
 "nbformat": 4,
 "nbformat_minor": 2
}
