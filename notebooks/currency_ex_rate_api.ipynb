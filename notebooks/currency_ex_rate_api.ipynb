{
 "cells": [
  {
   "cell_type": "code",
   "execution_count": 9,
   "metadata": {},
   "outputs": [
    {
     "data": {
      "text/plain": [
       "{'data': {'EUR': 1.1876873823, 'USD': 1.2234360139}}"
      ]
     },
     "execution_count": 9,
     "metadata": {},
     "output_type": "execute_result"
    }
   ],
   "source": [
    "import requests\n",
    "import json\n",
    "\n",
    "api_key = 'replace'\n",
    "\n",
    "url = 'https://api.freecurrencyapi.com/v1/latest'\n",
    "\n",
    "params = {'apikey': api_key,\n",
    "          'base_currency': 'GBP',\n",
    "          'currencies': 'EUR,USD'}\n",
    "\n",
    "response = requests.get(url, params).json()\n",
    "\n",
    "response"
   ]
  }
 ],
 "metadata": {
  "kernelspec": {
   "display_name": ".monzo_env",
   "language": "python",
   "name": "python3"
  },
  "language_info": {
   "codemirror_mode": {
    "name": "ipython",
    "version": 3
   },
   "file_extension": ".py",
   "mimetype": "text/x-python",
   "name": "python",
   "nbconvert_exporter": "python",
   "pygments_lexer": "ipython3",
   "version": "3.12.5"
  }
 },
 "nbformat": 4,
 "nbformat_minor": 2
}
